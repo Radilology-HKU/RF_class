{
  "cells": [
    {
      "cell_type": "markdown",
      "metadata": {
        "pycharm": {}
      },
      "source": [
        "# Random Forest-based clinical outcome prediction using radiomic features\n",
        "\n",
        "## NOTE:\n",
        "- This is an improved version of python code file. Unused funcitons are removed and the whole structure is easier to understand. Actually it has the same result as old version (\" open_img_train_rf.ipynb \") created by Dr Cao.\n",
        "\n",
        "- Before run this program, remember to transform all related \".xlsx\" files to \".CSV\" files.\n",
        "\n",
        "## Modify radiomic features and outcome labels:\n",
        "- The head lists of radiomic features and outcome labels are saved in variable \"list_feature_name\" and \"list_radinfo_name\".\n",
        "\n",
        "- Simply redefine these two lists can change the whole content of corresponding training and testing variables. "
      ]
    },
    {
      "cell_type": "code",
      "execution_count": 1,
      "metadata": {
        "ExecuteTime": {
          "end_time": "2019-09-18T04:42:38.890426Z",
          "start_time": "2019-09-18T04:42:30.418741Z"
        },
        "pycharm": {}
      },
      "outputs": [],
      "source": [
        "import matplotlib.pyplot as plt\n",
        "import numpy as np\n",
        "import csv"
      ]
    },
    {
      "cell_type": "code",
      "execution_count": 2,
      "metadata": {
        "ExecuteTime": {
          "end_time": "2019-09-18T04:43:32.110688Z",
          "start_time": "2019-09-18T04:43:32.099700Z"
        },
        "pycharm": {}
      },
      "outputs": [],
      "source": [
        "list_feature_name \u003d [\u0027histype\u0027,\u0027WT1\u0027,\u0027ER\u0027,\u0027PR\u0027]\n",
        "len_feature_list \u003d len(list_feature_name)\n",
        "\n",
        "list_radinfo_name \u003d [\u0027age\u0027,\u0027mean0\u0027,\u0027sd0\u0027,\u0027sd2\u0027,\u0027sd3\u0027,\u0027sd4\u0027,\u0027sd5\u0027,\u0027sd6\u0027,\u0027entropy0\u0027,\u0027entropy2\u0027,\u0027entropy3\u0027,\u0027entropy4\u0027,\u0027entropy5\u0027,\u0027entropy6\u0027,\u0027mpp0\u0027,\u0027mpp2\u0027,\u0027mpp3\u0027,\u0027mpp4\u0027,\u0027mpp5\u0027,\u0027mpp6\u0027]\n",
        "    #[\u0027age\u0027,\u0027staging\u0027,\u0027CA125\u0027,\u0027mean0\u0027,\u0027sd0\u0027,\u0027entropy0\u0027,\u0027mpp0\u0027,\u0027skewness0\u0027,\u0027kurtosis0\u0027,\u0027mean2\u0027,\u0027sd2\u0027,\u0027entropy2\u0027,\u0027mpp2\u0027,\\\n",
        "    #                 \u0027skewness2\u0027,\u0027kurtosis2\u0027,\u0027mean3\u0027,\u0027sd3\u0027,\u0027entropy3\u0027,\u0027mpp3\u0027,\u0027skewness3\u0027,\u0027kurtosis3\u0027,\u0027mean4\u0027,\u0027sd4\u0027,\\\n",
        "    #                 \u0027entropy4\u0027,\u0027mpp4\u0027,\u0027skewness4\u0027,\u0027kurtosis4\u0027,\u0027mean5\u0027,\u0027sd5\u0027,\u0027entropy5\u0027,\u0027mpp5\u0027,\u0027skewness5\u0027,\u0027kurtosis5\u0027,\\\n",
        "    #                 \t\u0027mean6\u0027,\u0027sd6\u0027,\u0027entropy6\u0027,\u0027mpp6\u0027,\u0027skewness6\u0027,\u0027kurtosis6\u0027]#\n",
        "len_radinfo_list \u003d len(list_radinfo_name)\n"
      ]
    },
    {
      "cell_type": "code",
      "execution_count": 23,
      "metadata": {
        "ExecuteTime": {
          "end_time": "2019-09-18T07:33:50.234129Z",
          "start_time": "2019-09-18T07:33:50.220138Z"
        },
        "pycharm": {}
      },
      "outputs": [],
      "source": "def list_data(label_fname,list_feature_name, list_radinfo_name):\n    csvfile \u003d  open(label_fname)\n    reader \u003d csv.DictReader(csvfile)  \n    csv_feature \u003d []\n    csv_radinfo \u003d []\n    len_feature_list \u003d len(list_feature_name)\n    len_radinfo_list \u003d len(list_radinfo_name)\n    for row in reader:\n        csv_feature_row \u003d []\n        for i in range(len_feature_list):\n            if row[list_feature_name[i]] \u003d\u003d \u0027-\u0027:\n                csv_feature_row.append(int(0))\n            elif row[list_feature_name[i]] \u003d\u003d \u0027+\u0027:\n                csv_feature_row.append(int(1))\n            else:\n                csv_feature_row.append(int(row[list_feature_name[i]]))\n        csv_feature.append(csv_feature_row)\n        csv_radinfo.append([float(row[list_radinfo_name[i]]) for i in range(len_radinfo_list)])\n        \n    return np.array(csv_feature), np.array(csv_radinfo)\n\ny_train, x_train \u003d list_data(\"training_n.CSV\", list_feature_name, list_radinfo_name)\n\ny_test, x_test \u003d list_data(\"testing.CSV\", list_feature_name, list_radinfo_name)"
    },
    {
      "cell_type": "code",
      "execution_count": 22,
      "metadata": {
        "ExecuteTime": {
          "end_time": "2019-09-18T07:31:09.690295Z",
          "start_time": "2019-09-18T07:31:06.810745Z"
        },
        "pycharm": {}
      },
      "outputs": [
        {
          "data": {
            "text/plain": [
              "RandomForestRegressor(bootstrap\u003dTrue, criterion\u003d\u0027mse\u0027, max_depth\u003dNone,\n",
              "           max_features\u003d\u0027auto\u0027, max_leaf_nodes\u003dNone,\n",
              "           min_impurity_decrease\u003d0.0, min_impurity_split\u003dNone,\n",
              "           min_samples_leaf\u003d1, min_samples_split\u003d2,\n",
              "           min_weight_fraction_leaf\u003d0.0, n_estimators\u003d1000, n_jobs\u003dNone,\n",
              "           oob_score\u003dFalse, random_state\u003d42, verbose\u003d0, warm_start\u003dFalse)"
            ]
          },
          "execution_count": 22,
          "metadata": {},
          "output_type": "execute_result"
        }
      ],
      "source": [
        "# Import random forest model\n",
        "from sklearn.ensemble import RandomForestRegressor\n",
        "# Instantiate model with 1000 decision trees\n",
        "rf \u003d RandomForestRegressor(n_estimators \u003d 1000, random_state \u003d 42)\n",
        "# Train the model on training data\n",
        "rf.fit(x_train, y_train)"
      ]
    },
    {
      "cell_type": "code",
      "execution_count": 25,
      "metadata": {
        "ExecuteTime": {
          "end_time": "2019-09-18T07:36:23.251773Z",
          "start_time": "2019-09-18T07:36:23.100828Z"
        },
        "pycharm": {}
      },
      "outputs": [
        {
          "name": "stdout",
          "output_type": "stream",
          "text": [
            "Mean Absolute Error: 0.35\n",
            "[0.6196078431372549, 0.7016666666666667, 0.6896103896103896, 0.650354609929078]\n"
          ]
        }
      ],
      "source": [
        "# Use the forest\u0027s predict method on the test data\n",
        "predictions \u003d rf.predict(x_test)\n",
        "# Calculate the absolute errors\n",
        "errors \u003d abs(predictions - y_test)\n",
        "# Print out the mean absolute error (mae)\n",
        "print(\u0027Mean Absolute Error:\u0027, round(np.mean(errors), 2))\n",
        "\n",
        "roc_auc \u003d []\n",
        "fpr \u003d []\n",
        "tpr \u003d []\n",
        "import sklearn.metrics as metrics\n",
        "# calculate the fpr and tpr for all thresholds of the classification\n",
        "for i in range( len(list_feature_name)):\n",
        "    false_pos_rate, true_pos_rate, threshold \u003d metrics.roc_curve(np.array(y_test)[:,i].flatten(), (np.array(predictions)[:,i].flatten()))\n",
        "    roc_auc.append(metrics.auc(false_pos_rate, true_pos_rate))\n",
        "    fpr.append(false_pos_rate)\n",
        "    tpr.append(true_pos_rate)\n",
        "print(roc_auc)"
      ]
    },
    {
      "cell_type": "code",
      "execution_count": 26,
      "metadata": {
        "ExecuteTime": {
          "end_time": "2019-09-18T07:37:12.753539Z",
          "start_time": "2019-09-18T07:37:12.308471Z"
        },
        "pycharm": {}
      },
      "outputs": [
        {
          "data": {
            "image/png": "[encoded data removed]",
            "text/plain": [
              "\u003cFigure size 432x288 with 1 Axes\u003e"
            ]
          },
          "metadata": {
            "needs_background": "light"
          },
          "output_type": "display_data"
        }
      ],
      "source": [
        "fig \u003d plt.figure()\n",
        "plt.title(\u0027Receiver Operating Characteristic\u0027)\n",
        "plt.plot(fpr[0], tpr[0], \u0027b\u0027, label\u003dlist_feature_name[0] + \u0027 AUC \u003d %0.2f\u0027% roc_auc[0])\n",
        "plt.plot(fpr[1], tpr[1], \u0027r\u0027, label\u003dlist_feature_name[1] +\u0027 AUC \u003d %0.2f\u0027% roc_auc[1])\n",
        "plt.plot(fpr[2], tpr[2], \u0027y\u0027, label\u003dlist_feature_name[2] +\u0027 AUC \u003d %0.2f\u0027% roc_auc[2])\n",
        "plt.plot(fpr[3], tpr[3], \u0027g\u0027, label\u003dlist_feature_name[3] +\u0027 AUC \u003d %0.2f\u0027% roc_auc[3])\n",
        "plt.legend(loc\u003d\u0027lower right\u0027)\n",
        "plt.plot([0,1],[0,1],\u0027r--\u0027)\n",
        "plt.xlim([-0.1,1.1])\n",
        "plt.ylim([-0.1,1.1])\n",
        "plt.ylabel(\u0027True Positive Rate\u0027)\n",
        "plt.xlabel(\u0027False Positive Rate\u0027)\n",
        "plt.show()\n",
        "\n",
        "\n",
        "fig.savefig(\u0027roc_rf.png\u0027, dpi\u003dfig.dpi)"
      ]
    }
  ],
  "metadata": {
    "kernelspec": {
      "display_name": "Python 3",
      "language": "python",
      "name": "python3"
    },
    "language_info": {
      "codemirror_mode": {
        "name": "ipython",
        "version": 3
      },
      "file_extension": ".py",
      "mimetype": "text/x-python",
      "name": "python",
      "nbconvert_exporter": "python",
      "pygments_lexer": "ipython3",
      "version": "3.6.1"
    },
    "varInspector": {
      "cols": {
        "lenName": 16,
        "lenType": 16,
        "lenVar": 40
      },
      "kernels_config": {
        "python": {
          "delete_cmd_postfix": "",
          "delete_cmd_prefix": "del ",
          "library": "var_list.py",
          "varRefreshCmd": "print(var_dic_list())"
        },
        "r": {
          "delete_cmd_postfix": ") ",
          "delete_cmd_prefix": "rm(",
          "library": "var_list.r",
          "varRefreshCmd": "cat(var_dic_list()) "
        }
      },
      "position": {
        "height": "257.86px",
        "left": "907px",
        "right": "20px",
        "top": "120px",
        "width": "353px"
      },
      "types_to_exclude": [
        "module",
        "function",
        "builtin_function_or_method",
        "instance",
        "_Feature"
      ],
      "window_display": false
    }
  },
  "nbformat": 4,
  "nbformat_minor": 1
}