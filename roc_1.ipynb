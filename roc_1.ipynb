{
  "cells": [
    {
      "cell_type": "markdown",
      "metadata": {
        "pycharm": {}
      },
      "source": [
        "## NOTE:\n",
        "- This file is used to test whether the results of random forest algorithm accurately satisify our need. \n",
        "- Compared to file \"roc.ipynb\", the only difference is the order of \"list_radinfo_name\": \n",
        "   - The first feature \u0027age\u0027 in file \"roc.ipynb\" is put in the end of feature list.\n",
        "- As you can see, ROC and AUC will be different if the order of input features changes.\n",
        "- A **better way** to compare the results of two methods is to compare the prediction rusults directly."
      ]
    },
    {
      "cell_type": "code",
      "execution_count": 1,
      "metadata": {
        "ExecuteTime": {
          "end_time": "2019-09-18T11:02:05.704865Z",
          "start_time": "2019-09-18T11:02:04.949231Z"
        },
        "pycharm": {}
      },
      "outputs": [],
      "source": [
        "import matplotlib.pyplot as plt\n",
        "import numpy as np\n",
        "import csv"
      ]
    },
    {
      "cell_type": "code",
      "execution_count": 2,
      "metadata": {
        "ExecuteTime": {
          "end_time": "2019-09-18T11:05:39.929468Z",
          "start_time": "2019-09-18T11:05:39.919959Z"
        },
        "pycharm": {}
      },
      "outputs": [],
      "source": [
        "list_feature_name \u003d [\u0027histype\u0027,\u0027WT1\u0027,\u0027ER\u0027,\u0027PR\u0027]#histype\n",
        "len_feature_list \u003d len(list_feature_name)\n",
        "# Order of input features is same as order of R code.\n",
        "list_radinfo_name \u003d [\u0027mean0\u0027,\u0027sd0\u0027,\u0027sd2\u0027,\u0027sd3\u0027,\u0027sd4\u0027,\u0027sd5\u0027,\u0027sd6\u0027,\u0027entropy0\u0027,\u0027entropy2\u0027,\u0027entropy3\u0027,\u0027entropy4\u0027,\u0027entropy5\u0027,\u0027entropy6\u0027,\u0027mpp0\u0027,\u0027mpp2\u0027,\u0027mpp3\u0027,\u0027mpp4\u0027,\u0027mpp5\u0027,\u0027mpp6\u0027,\u0027age\u0027]\n",
        "    #[\u0027age\u0027,\u0027staging\u0027,\u0027CA125\u0027,\u0027mean0\u0027,\u0027sd0\u0027,\u0027entropy0\u0027,\u0027mpp0\u0027,\u0027skewness0\u0027,\u0027kurtosis0\u0027,\u0027mean2\u0027,\u0027sd2\u0027,\u0027entropy2\u0027,\u0027mpp2\u0027,\\\n",
        "    #                 \u0027skewness2\u0027,\u0027kurtosis2\u0027,\u0027mean3\u0027,\u0027sd3\u0027,\u0027entropy3\u0027,\u0027mpp3\u0027,\u0027skewness3\u0027,\u0027kurtosis3\u0027,\u0027mean4\u0027,\u0027sd4\u0027,\\\n",
        "    #                 \u0027entropy4\u0027,\u0027mpp4\u0027,\u0027skewness4\u0027,\u0027kurtosis4\u0027,\u0027mean5\u0027,\u0027sd5\u0027,\u0027entropy5\u0027,\u0027mpp5\u0027,\u0027skewness5\u0027,\u0027kurtosis5\u0027,\\\n",
        "    #                 \t\u0027mean6\u0027,\u0027sd6\u0027,\u0027entropy6\u0027,\u0027mpp6\u0027,\u0027skewness6\u0027,\u0027kurtosis6\u0027]#\n",
        "len_radinfo_list \u003d len(list_radinfo_name)\n"
      ]
    },
    {
      "cell_type": "code",
      "execution_count": 3,
      "metadata": {
        "ExecuteTime": {
          "end_time": "2019-09-18T11:05:53.939072Z",
          "start_time": "2019-09-18T11:05:53.886108Z"
        },
        "pycharm": {}
      },
      "outputs": [],
      "source": "def list_data(label_fname,list_feature_name, list_radinfo_name):\n    csvfile \u003d  open(label_fname)\n    reader \u003d csv.DictReader(csvfile)  \n    csv_feature \u003d []\n    csv_radinfo \u003d []\n    len_feature_list \u003d len(list_feature_name)\n    len_radinfo_list \u003d len(list_radinfo_name)\n    for row in reader:\n        csv_feature_row \u003d []\n        for i in range(len_feature_list):\n            if row[list_feature_name[i]] \u003d\u003d \u0027-\u0027:\n                csv_feature_row.append(int(0))\n            elif row[list_feature_name[i]] \u003d\u003d \u0027+\u0027:\n                csv_feature_row.append(int(1))\n            else:\n                csv_feature_row.append(int(row[list_feature_name[i]]))\n        csv_feature.append(csv_feature_row)\n        csv_radinfo.append([float(row[list_radinfo_name[i]]) for i in range(len_radinfo_list)])\n        \n    return np.array(csv_feature), np.array(csv_radinfo)\n\ny_train, x_train \u003d list_data(\"training_n.CSV\", list_feature_name, list_radinfo_name)\n\ny_test, x_test \u003d list_data(\"testing.CSV\", list_feature_name, list_radinfo_name)"
    },
    {
      "cell_type": "code",
      "execution_count": 4,
      "metadata": {
        "ExecuteTime": {
          "end_time": "2019-09-18T11:06:20.069385Z",
          "start_time": "2019-09-18T11:06:14.951321Z"
        },
        "pycharm": {}
      },
      "outputs": [
        {
          "data": {
            "text/plain": [
              "RandomForestRegressor(bootstrap\u003dTrue, criterion\u003d\u0027mse\u0027, max_depth\u003dNone,\n",
              "           max_features\u003d\u0027auto\u0027, max_leaf_nodes\u003dNone,\n",
              "           min_impurity_decrease\u003d0.0, min_impurity_split\u003dNone,\n",
              "           min_samples_leaf\u003d1, min_samples_split\u003d2,\n",
              "           min_weight_fraction_leaf\u003d0.0, n_estimators\u003d1000, n_jobs\u003dNone,\n",
              "           oob_score\u003dFalse, random_state\u003d42, verbose\u003d0, warm_start\u003dFalse)"
            ]
          },
          "execution_count": 4,
          "metadata": {},
          "output_type": "execute_result"
        }
      ],
      "source": [
        "# Import random forest model\n",
        "from sklearn.ensemble import RandomForestRegressor\n",
        "# Instantiate model with 1000 decision trees\n",
        "rf \u003d RandomForestRegressor(n_estimators \u003d 1000, random_state \u003d 42)\n",
        "# Train the model on training data\n",
        "rf.fit(x_train, y_train)"
      ]
    },
    {
      "cell_type": "code",
      "execution_count": 5,
      "metadata": {
        "ExecuteTime": {
          "end_time": "2019-09-18T11:06:32.072706Z",
          "start_time": "2019-09-18T11:06:31.852841Z"
        },
        "pycharm": {}
      },
      "outputs": [
        {
          "name": "stdout",
          "output_type": "stream",
          "text": [
            "Mean Absolute Error: 0.35\n",
            "[0.626797385620915, 0.7083333333333334, 0.6987012987012987, 0.6574468085106382]\n"
          ]
        }
      ],
      "source": [
        "# Use the forest\u0027s predict method on the test data\n",
        "predictions \u003d rf.predict(x_test)\n",
        "# Calculate the absolute errors\n",
        "errors \u003d abs(predictions - y_test)\n",
        "# Print out the mean absolute error (mae)\n",
        "print(\u0027Mean Absolute Error:\u0027, round(np.mean(errors), 2))\n",
        "\n",
        "roc_auc \u003d []\n",
        "fpr \u003d []\n",
        "tpr \u003d []\n",
        "import sklearn.metrics as metrics\n",
        "# calculate the fpr and tpr for all thresholds of the classification\n",
        "for i in range( len(list_feature_name)):\n",
        "    false_pos_rate, true_pos_rate, threshold \u003d metrics.roc_curve(np.array(y_test)[:,i].flatten(), (np.array(predictions)[:,i].flatten()))\n",
        "    roc_auc.append(metrics.auc(false_pos_rate, true_pos_rate))\n",
        "    fpr.append(false_pos_rate)\n",
        "    tpr.append(true_pos_rate)\n",
        "print(roc_auc)"
      ]
    },
    {
      "cell_type": "code",
      "execution_count": 6,
      "metadata": {
        "ExecuteTime": {
          "end_time": "2019-09-18T11:06:52.789372Z",
          "start_time": "2019-09-18T11:06:52.374532Z"
        },
        "pycharm": {}
      },
      "outputs": [
        {
          "data": {
            "image/png": "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\u003d\n",
            "text/plain": [
              "\u003cFigure size 432x288 with 1 Axes\u003e"
            ]
          },
          "metadata": {
            "needs_background": "light"
          },
          "output_type": "display_data"
        }
      ],
      "source": [
        "fig \u003d plt.figure()\n",
        "plt.title(\u0027Receiver Operating Characteristic\u0027)\n",
        "plt.plot(fpr[0], tpr[0], \u0027b\u0027, label\u003dlist_feature_name[0] + \u0027 AUC \u003d %0.2f\u0027% roc_auc[0])\n",
        "plt.plot(fpr[1], tpr[1], \u0027r\u0027, label\u003dlist_feature_name[1] +\u0027 AUC \u003d %0.2f\u0027% roc_auc[1])\n",
        "plt.plot(fpr[2], tpr[2], \u0027y\u0027, label\u003dlist_feature_name[2] +\u0027 AUC \u003d %0.2f\u0027% roc_auc[2])\n",
        "plt.plot(fpr[3], tpr[3], \u0027g\u0027, label\u003dlist_feature_name[3] +\u0027 AUC \u003d %0.2f\u0027% roc_auc[3])\n",
        "plt.legend(loc\u003d\u0027lower right\u0027)\n",
        "plt.plot([0,1],[0,1],\u0027r--\u0027)\n",
        "plt.xlim([-0.1,1.1])\n",
        "plt.ylim([-0.1,1.1])\n",
        "plt.ylabel(\u0027True Positive Rate\u0027)\n",
        "plt.xlabel(\u0027False Positive Rate\u0027)\n",
        "plt.show()\n",
        "\n",
        "\n",
        "fig.savefig(\u0027roc_rf.png\u0027, dpi\u003dfig.dpi)"
      ]
    },
    {
      "cell_type": "code",
      "execution_count": 19,
      "metadata": {
        "ExecuteTime": {
          "end_time": "2019-09-18T07:20:34.840086Z",
          "start_time": "2019-09-18T07:20:34.801107Z"
        },
        "pycharm": {}
      },
      "outputs": [],
      "source": "label_fname \u003d \"training_n.CSV\"\nwith open(label_fname) as f:\n    reader \u003d csv.DictReader(f)\n    csv_feature \u003d []\n    csv_radinfo \u003d []\n    for row in reader:\n        csv_feature_row \u003d []\n        for i in range(len_feature_list):\n            if row[list_feature_name[i]] \u003d\u003d \u0027-\u0027:\n                csv_feature_row.append(0)\n            elif row[list_feature_name[i]] \u003d\u003d \u0027+\u0027:\n                csv_feature_row.append(1)\n            else:\n                csv_feature_row.append(int(row[list_feature_name[i]]))\n        csv_feature.append(csv_feature_row)\n        csv_radinfo.append([np.array(row[list_radinfo_name[i]]) for i in range(len_radinfo_list)])\n        \n            \n    "
    }
  ],
  "metadata": {
    "kernelspec": {
      "display_name": "Python 3",
      "language": "python",
      "name": "python3"
    },
    "language_info": {
      "codemirror_mode": {
        "name": "ipython",
        "version": 3
      },
      "file_extension": ".py",
      "mimetype": "text/x-python",
      "name": "python",
      "nbconvert_exporter": "python",
      "pygments_lexer": "ipython3",
      "version": "3.6.1"
    },
    "varInspector": {
      "cols": {
        "lenName": 16,
        "lenType": 16,
        "lenVar": 40
      },
      "kernels_config": {
        "python": {
          "delete_cmd_postfix": "",
          "delete_cmd_prefix": "del ",
          "library": "var_list.py",
          "varRefreshCmd": "print(var_dic_list())"
        },
        "r": {
          "delete_cmd_postfix": ") ",
          "delete_cmd_prefix": "rm(",
          "library": "var_list.r",
          "varRefreshCmd": "cat(var_dic_list()) "
        }
      },
      "position": {
        "height": "257.86px",
        "left": "907px",
        "right": "20px",
        "top": "120px",
        "width": "353px"
      },
      "types_to_exclude": [
        "module",
        "function",
        "builtin_function_or_method",
        "instance",
        "_Feature"
      ],
      "window_display": false
    }
  },
  "nbformat": 4,
  "nbformat_minor": 1
}